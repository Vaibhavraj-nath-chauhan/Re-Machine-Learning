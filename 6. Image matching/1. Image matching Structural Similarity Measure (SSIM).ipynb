{
 "cells": [
  {
   "cell_type": "code",
   "execution_count": 1,
   "metadata": {},
   "outputs": [],
   "source": [
    "import os\n",
    "import cv2\n",
    "import numpy as np \n",
    "from skimage.measure import compare_ssim as ssim\n",
    "os.chdir(\"D:\\\\Learning\\\\Projects with learning\\\\Machine Learning\\\\Projects\\\\6. Image matching\")\n",
    "exec(open(os.path.abspath('image_common_utils.py')).read())"
   ]
  },
  {
   "cell_type": "markdown",
   "metadata": {},
   "source": [
    "# Structural Similarity Measure (SSIM)"
   ]
  },
  {
   "cell_type": "markdown",
   "metadata": {},
   "source": [
    "##### Reading Image"
   ]
  },
  {
   "cell_type": "code",
   "execution_count": 2,
   "metadata": {},
   "outputs": [],
   "source": [
    "my_image_color = cv2.imread('./image_data/elephant.png')\n",
    "my_image_gray = cv2.cvtColor(my_image_color,cv2.COLOR_BGR2GRAY)"
   ]
  },
  {
   "cell_type": "code",
   "execution_count": 3,
   "metadata": {},
   "outputs": [],
   "source": [
    "kernel = np.ones((5,5),np.uint8)\n",
    "my_image_erosion = cv2.erode(my_image_gray,kernel,iterations = 1)                              #Shrink\n",
    "my_image_dilation = cv2.dilate(my_image_gray,kernel,iterations = 1)                            #Expand\n",
    "list_image_faces = [my_image_gray, my_image_erosion, my_image_dilation]\n",
    "cv2.imshow('image_',np.hstack(list_image_faces)); cv2.waitKey(0); cv2.destroyAllWindows()"
   ]
  },
  {
   "cell_type": "code",
   "execution_count": 4,
   "metadata": {},
   "outputs": [
    {
     "name": "stderr",
     "output_type": "stream",
     "text": [
      "D:\\Anaconda\\lib\\site-packages\\ipykernel_launcher.py:6: UserWarning: DEPRECATED: skimage.measure.compare_ssim has been moved to skimage.metrics.structural_similarity. It will be removed from skimage.measure in version 0.18.\n",
      "  \n"
     ]
    },
    {
     "name": "stdout",
     "output_type": "stream",
     "text": [
      "01: 0.51, 02: 0.51, 12: 0.38, \n"
     ]
    }
   ],
   "source": [
    "# Call SSIM\n",
    "list_ssims = []\n",
    "title = ''\n",
    "for i in range(len(list_image_faces)):\n",
    "    for j in range(i+1,len(list_image_faces)):  \n",
    "        ssim_temp = round(ssim(list_image_faces[i], list_image_faces[j]),2)    #comparing images and giving results\n",
    "        list_ssims.append(ssim_temp)\n",
    "        title = title + str(i) + str(j) + ': ' + str(ssim_temp) + ', '\n",
    "        del(ssim_temp)\n",
    "\n",
    "print(title)# (0.51, 0.51, 0.38)\n",
    "cv2.imshow(title,np.hstack(list_image_faces))\n",
    "cv2.waitKey(0)\n",
    "cv2.destroyAllWindows()"
   ]
  },
  {
   "cell_type": "code",
   "execution_count": null,
   "metadata": {},
   "outputs": [],
   "source": []
  }
 ],
 "metadata": {
  "kernelspec": {
   "display_name": "Python 3",
   "language": "python",
   "name": "python3"
  },
  "language_info": {
   "codemirror_mode": {
    "name": "ipython",
    "version": 3
   },
   "file_extension": ".py",
   "mimetype": "text/x-python",
   "name": "python",
   "nbconvert_exporter": "python",
   "pygments_lexer": "ipython3",
   "version": "3.7.6"
  }
 },
 "nbformat": 4,
 "nbformat_minor": 4
}
