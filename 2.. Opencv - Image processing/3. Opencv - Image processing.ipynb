{
 "cells": [
  {
   "cell_type": "code",
   "execution_count": 2,
   "metadata": {},
   "outputs": [],
   "source": [
    "import os\n",
    "import cv2 \n",
    "import numpy as np\n",
    "os.chdir(\"..\\\\2.. Opencv - Image processing\")\n",
    "exec(open(os.path.abspath('image_common_utils.py')).read())"
   ]
  },
  {
   "cell_type": "markdown",
   "metadata": {},
   "source": [
    "##### Draw different geometric shapes"
   ]
  },
  {
   "cell_type": "code",
   "execution_count": 3,
   "metadata": {},
   "outputs": [],
   "source": [
    "# Create a black image or load any image on which drawing need to be done\n",
    "img_geo = np.zeros((512,512,3), np.uint8)\n",
    "\n",
    "#Line: Draw a blue line with thickness of 6 px\n",
    "img_geo = cv2.line(img_geo,(0,0),(511,511),(255,0,0),6)\n",
    "\n",
    "#Rectangle (top-left corner and bottom-right corner)\n",
    "img_geo = cv2.rectangle(img_geo,(384,0),(510,128),(0,255,0),3)\n",
    "\n",
    "#Circle: center coordinates and radius\n",
    "img_geo = cv2.circle(img_geo,(447,63), 63, (0,0,255), -1)\n",
    "\n",
    "#Ellipse\n",
    "img_geo = cv2.ellipse(img_geo,(256,256),(100,50),0,0,360,255,-1)\n",
    "\n",
    "#Polygon: coordinates of vertices in shape ROWSx1x2 where ROWS are number of vertices\n",
    "pts = np.array([[10,5],[20,30],[70,20],[50,10]], np.int32)\n",
    "pts = pts.reshape((-1,1,2))\n",
    "img_geo = cv2.polylines(img_geo,[pts],\n",
    "                        True, # If False - get a polylines joining all the points, not a closed shape.\n",
    "                        (0,255,255))\n",
    "\n",
    "\n",
    "\n",
    "#Adding Text\n",
    "font = cv2.FONT_HERSHEY_SIMPLEX\n",
    "cv2.putText(img_geo,'Hi OpenCV',(10,500), font, 4,(255,255,255),2,cv2.LINE_AA)\n",
    "\n",
    "cv2.imshow('image',img_geo)\n",
    "k = cv2.waitKey(0) & 0xFF # 0xFF require for 64-bit machines\n",
    "cv2.destroyAllWindows()"
   ]
  }
 ],
 "metadata": {
  "kernelspec": {
   "display_name": "Python 3",
   "language": "python",
   "name": "python3"
  },
  "language_info": {
   "codemirror_mode": {
    "name": "ipython",
    "version": 3
   },
   "file_extension": ".py",
   "mimetype": "text/x-python",
   "name": "python",
   "nbconvert_exporter": "python",
   "pygments_lexer": "ipython3",
   "version": "3.7.6"
  }
 },
 "nbformat": 4,
 "nbformat_minor": 4
}
