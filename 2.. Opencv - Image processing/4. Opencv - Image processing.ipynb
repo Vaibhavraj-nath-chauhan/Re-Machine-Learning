{
 "cells": [
  {
   "cell_type": "code",
   "execution_count": 1,
   "metadata": {},
   "outputs": [],
   "source": [
    "import os\n",
    "import cv2 \n",
    "import numpy as np\n",
    "os.chdir(\"..\\\\2.. Opencv - Image processing\")\n",
    "exec(open(os.path.abspath('image_common_utils.py')).read())"
   ]
  },
  {
   "cell_type": "markdown",
   "metadata": {},
   "source": [
    "##### Get the points where mouse is clicked"
   ]
  },
  {
   "cell_type": "code",
   "execution_count": 2,
   "metadata": {},
   "outputs": [
    {
     "name": "stdout",
     "output_type": "stream",
     "text": [
      "['EVENT_FLAG_ALTKEY', 'EVENT_FLAG_CTRLKEY', 'EVENT_FLAG_LBUTTON', 'EVENT_FLAG_MBUTTON', 'EVENT_FLAG_RBUTTON', 'EVENT_FLAG_SHIFTKEY', 'EVENT_LBUTTONDBLCLK', 'EVENT_LBUTTONDOWN', 'EVENT_LBUTTONUP', 'EVENT_MBUTTONDBLCLK', 'EVENT_MBUTTONDOWN', 'EVENT_MBUTTONUP', 'EVENT_MOUSEHWHEEL', 'EVENT_MOUSEMOVE', 'EVENT_MOUSEWHEEL', 'EVENT_RBUTTONDBLCLK', 'EVENT_RBUTTONDOWN', 'EVENT_RBUTTONUP']\n"
     ]
    }
   ],
   "source": [
    "# First see the common attributes of cv2. In particular - various events\n",
    "events = [i for i in dir(cv2) if 'EVENT' in i]\n",
    "print(events)"
   ]
  },
  {
   "cell_type": "code",
   "execution_count": 4,
   "metadata": {},
   "outputs": [
    {
     "name": "stdout",
     "output_type": "stream",
     "text": [
      "70, 102\n",
      "168, 143\n"
     ]
    }
   ],
   "source": [
    "my_image = cv2.imread(\"./image_data/elephant.png\")\n",
    "\n",
    "cv2.namedWindow('my_image')\n",
    "font = cv2.FONT_HERSHEY_SIMPLEX\n",
    "\n",
    "# mouse callback function\n",
    "def event_callback(event,x,y,flags,param):\n",
    "    if event == cv2.EVENT_LBUTTONDOWN: # get list of events as explained above\n",
    "        print('%s%s%s' %(str(x),', ', str(y)))\n",
    "        cv2.putText(my_image,str(x) + ', ' + str(y),(x,y), font, 1,(255,255,255),2,cv2.LINE_AA)\n",
    "\n",
    "    return\n",
    "\n",
    "#Bind the function to window\n",
    "cv2.setMouseCallback('my_image', event_callback)\n",
    "\n",
    "while(True):\n",
    "    cv2.imshow('my_image',my_image)\n",
    "    if cv2.waitKey(10) & 0xFF == 27:\n",
    "        break\n",
    "\n",
    "cv2.destroyAllWindows()"
   ]
  }
 ],
 "metadata": {
  "kernelspec": {
   "display_name": "Python 3",
   "language": "python",
   "name": "python3"
  },
  "language_info": {
   "codemirror_mode": {
    "name": "ipython",
    "version": 3
   },
   "file_extension": ".py",
   "mimetype": "text/x-python",
   "name": "python",
   "nbconvert_exporter": "python",
   "pygments_lexer": "ipython3",
   "version": "3.7.6"
  }
 },
 "nbformat": 4,
 "nbformat_minor": 4
}
