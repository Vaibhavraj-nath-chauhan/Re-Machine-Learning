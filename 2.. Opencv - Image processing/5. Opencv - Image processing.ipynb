{
 "cells": [
  {
   "cell_type": "code",
   "execution_count": 1,
   "metadata": {},
   "outputs": [],
   "source": [
    "import os\n",
    "import cv2 \n",
    "import numpy as np\n",
    "os.chdir(\"D:\\\\Learning\\\\Projects with learning\\\\Machine Learning\\\\Projects\\\\2.. Opencv - Image processing\")\n",
    "exec(open(os.path.abspath('image_common_utils.py')).read())"
   ]
  },
  {
   "cell_type": "markdown",
   "metadata": {},
   "source": [
    "### Write on each frame of Video"
   ]
  },
  {
   "cell_type": "code",
   "execution_count": 6,
   "metadata": {},
   "outputs": [
    {
     "name": "stdout",
     "output_type": "stream",
     "text": [
      "WxH is:  (490, 360)\n",
      "lw, lh is  32 28\n"
     ]
    }
   ],
   "source": [
    "capture_video = cv2.VideoCapture('./image_data/horse.mp4')\n",
    "sz = (int(capture_video.get(cv2.CAP_PROP_FRAME_WIDTH)), int(capture_video.get(cv2.CAP_PROP_FRAME_HEIGHT)))\n",
    "print('WxH is: ',sz)\n",
    "\n",
    "# Define the codec and create VideoWriter object. http://www.fourcc.org/codecs.php\n",
    "fourcc = cv2.VideoWriter_fourcc(*'mp4v') # for avi - DIVX, mp4 - mp4v\n",
    "out = cv2.VideoWriter('./image_data/horse_text.mp4',fourcc, int(capture_video.get(cv2.CAP_PROP_FPS)), sz, True)\n",
    "\n",
    "count = 0\n",
    "(label_width, label_height), baseline = cv2.getTextSize(str(count), cv2.FONT_HERSHEY_PLAIN, 3, 2)\n",
    "print('lw, lh is ', label_width, label_height)\n",
    "\n",
    "while(capture_video.isOpened()):\n",
    "    ret, frame = capture_video.read()\n",
    "    #frame = cv2.cvtColor(frame, cv2.COLOR_BGR2GRAY)\n",
    "\n",
    "    if ret==True:\n",
    "        # write the frame\n",
    "        cv2.putText(frame, str(count), (sz[0]-100, sz[1]-100), cv2.FONT_HERSHEY_PLAIN, 3, (0,0,0), 3, cv2.LINE_AA)\n",
    "        out.write(frame)\n",
    "\n",
    "    else:\n",
    "        break\n",
    "    count = count + 1\n",
    "\n",
    "# Release everything if job is finished\n",
    "capture_video.release()\n",
    "out.release()\n",
    "cv2.destroyAllWindows()\n",
    "\n"
   ]
  },
  {
   "cell_type": "code",
   "execution_count": 7,
   "metadata": {},
   "outputs": [
    {
     "name": "stdout",
     "output_type": "stream",
     "text": [
      "684\n"
     ]
    }
   ],
   "source": [
    "print(count)"
   ]
  },
  {
   "cell_type": "code",
   "execution_count": null,
   "metadata": {},
   "outputs": [],
   "source": []
  }
 ],
 "metadata": {
  "kernelspec": {
   "display_name": "Python 3",
   "language": "python",
   "name": "python3"
  },
  "language_info": {
   "codemirror_mode": {
    "name": "ipython",
    "version": 3
   },
   "file_extension": ".py",
   "mimetype": "text/x-python",
   "name": "python",
   "nbconvert_exporter": "python",
   "pygments_lexer": "ipython3",
   "version": "3.7.6"
  }
 },
 "nbformat": 4,
 "nbformat_minor": 4
}
