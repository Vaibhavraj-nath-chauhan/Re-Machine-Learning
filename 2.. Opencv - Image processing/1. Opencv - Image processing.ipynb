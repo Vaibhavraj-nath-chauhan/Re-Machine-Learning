{
 "cells": [
  {
   "cell_type": "code",
   "execution_count": 6,
   "metadata": {},
   "outputs": [],
   "source": [
    "import os\n",
    "import cv2 \n",
    "os.chdir(\"..\\\\2.. Opencv - Image processing\")\n",
    "exec(open(os.path.abspath('image_common_utils.py')).read())"
   ]
  },
  {
   "cell_type": "markdown",
   "metadata": {},
   "source": [
    "##### Basic image read/write using OpenCv"
   ]
  },
  {
   "cell_type": "code",
   "execution_count": 9,
   "metadata": {},
   "outputs": [],
   "source": [
    "color_image = cv2.imread('./image_data/balloon.jpg',1)\n",
    "cv2.namedWindow('image', cv2.WINDOW_NORMAL) # Default: cv2.WINDOW_AUTOSIZE\n",
    "cv2.imshow('image',color_image)\n",
    "\n",
    "#Delay in milliseconds. 0 is the special value that means \"forever\".\n",
    "k = cv2.waitKey(0) & 0xFF # 0xFF require for 64-bit machines\n",
    "if k == 27:         # wait for ESC key to exit\n",
    "    cv2.destroyAllWindows()\n",
    "elif k == ord('s'): # wait for unicode of 's' key to save and exit\n",
    "    cv2.imwrite('./image_output/balloon.jpg',color_image)\n",
    "    cv2.destroyAllWindows()\n",
    "else:\n",
    "    cv2.destroyAllWindows()"
   ]
  }
 ],
 "metadata": {
  "kernelspec": {
   "display_name": "Python 3",
   "language": "python",
   "name": "python3"
  },
  "language_info": {
   "codemirror_mode": {
    "name": "ipython",
    "version": 3
   },
   "file_extension": ".py",
   "mimetype": "text/x-python",
   "name": "python",
   "nbconvert_exporter": "python",
   "pygments_lexer": "ipython3",
   "version": "3.7.6"
  }
 },
 "nbformat": 4,
 "nbformat_minor": 4
}
