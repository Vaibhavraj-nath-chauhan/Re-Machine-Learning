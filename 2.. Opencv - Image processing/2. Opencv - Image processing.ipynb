{
 "cells": [
  {
   "cell_type": "code",
   "execution_count": 1,
   "metadata": {},
   "outputs": [],
   "source": [
    "import os\n",
    "import cv2 \n",
    "os.chdir(\"..\\\\2.. Opencv - Image processing\")\n",
    "exec(open(os.path.abspath('image_common_utils.py')).read())"
   ]
  },
  {
   "cell_type": "markdown",
   "metadata": {},
   "source": [
    "##### Capture from device index or the name of a video file"
   ]
  },
  {
   "cell_type": "code",
   "execution_count": 2,
   "metadata": {},
   "outputs": [],
   "source": [
    "capture_video = cv2.VideoCapture(0)\n",
    "fourcc = cv2.VideoWriter_fourcc(*'DIVX')\n",
    "out = cv2.VideoWriter('./image_output/video.avi',fourcc,\n",
    "                      20, # frame per sec\n",
    "                      (640,480)) # size of video\n",
    "while(capture_video.isOpened()):\n",
    "    ret, frame = capture_video.read()\n",
    "    if ret==True:\n",
    "\n",
    "        \n",
    "        out.write(frame)\n",
    "\n",
    "        cv2.imshow('frame',frame)\n",
    "        k = cv2.waitKey(1) & 0xFF\n",
    "        if k == 113 or k == 27: # ord('q') -> 113, Esc -> 27\n",
    "            break\n",
    "    else:\n",
    "        break\n",
    "capture_video.release()\n",
    "out.release()\n",
    "cv2.destroyAllWindows()"
   ]
  }
 ],
 "metadata": {
  "kernelspec": {
   "display_name": "Python 3",
   "language": "python",
   "name": "python3"
  },
  "language_info": {
   "codemirror_mode": {
    "name": "ipython",
    "version": 3
   },
   "file_extension": ".py",
   "mimetype": "text/x-python",
   "name": "python",
   "nbconvert_exporter": "python",
   "pygments_lexer": "ipython3",
   "version": "3.7.6"
  }
 },
 "nbformat": 4,
 "nbformat_minor": 4
}
