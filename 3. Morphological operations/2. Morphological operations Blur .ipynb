{
 "cells": [
  {
   "cell_type": "code",
   "execution_count": 1,
   "metadata": {},
   "outputs": [],
   "source": [
    "import os\n",
    "import numpy as np\n",
    "import cv2\n",
    "from skimage.io import imread\n",
    "os.chdir(\"..\\\\3. Morphological operations\")\n",
    "exec(open(os.path.abspath('image_common_utils.py')).read())"
   ]
  },
  {
   "cell_type": "markdown",
   "metadata": {},
   "source": [
    "### Inbuilt blur functions"
   ]
  },
  {
   "cell_type": "code",
   "execution_count": 3,
   "metadata": {},
   "outputs": [],
   "source": [
    "# Read image\n",
    "my_image_gray = np.array(imread(\"./image_data/wint_sky.gif\", as_gray=True))\n",
    "cv2_show_fullscr('Original', my_image_gray)                                     #predefined function in image_common_utils file"
   ]
  },
  {
   "cell_type": "code",
   "execution_count": 2,
   "metadata": {},
   "outputs": [],
   "source": [
    "\n",
    "#cv2.blur: Same as above\n",
    "#cv2.GaussianBlur: Uses gaussian kernel cv2.getGaussianKernel. The Gaussian filter just looks\n",
    "#at the immediate neighborhood and averages the pixel values using a Gaussian kernel,\n",
    "#cv2.medianBlur:  Used in removing salt-and-pepper noise"
   ]
  },
  {
   "cell_type": "code",
   "execution_count": 4,
   "metadata": {},
   "outputs": [],
   "source": [
    "#resize just to view result properly\n",
    "my_image_gray = cv2.resize(my_image_gray, (300, 300), cv2.INTER_AREA)"
   ]
  },
  {
   "cell_type": "code",
   "execution_count": 5,
   "metadata": {},
   "outputs": [],
   "source": [
    "# Apply inbuilt blur functions\n",
    "image_blur = cv2.blur(my_image_gray,(3,3))\n",
    "image_gaussblur = cv2.GaussianBlur(my_image_gray,(3,3),0)\n",
    "image_medianblur = cv2.medianBlur(my_image_gray,3)"
   ]
  },
  {
   "cell_type": "code",
   "execution_count": 7,
   "metadata": {},
   "outputs": [],
   "source": [
    "list_my_image = np.hstack([my_image_gray, image_blur, image_gaussblur, image_medianblur])\n",
    "cv2.imshow(\"All\", list_my_image); cv2.waitKey(0); cv2.destroyAllWindows()"
   ]
  }
 ],
 "metadata": {
  "kernelspec": {
   "display_name": "Python 3",
   "language": "python",
   "name": "python3"
  },
  "language_info": {
   "codemirror_mode": {
    "name": "ipython",
    "version": 3
   },
   "file_extension": ".py",
   "mimetype": "text/x-python",
   "name": "python",
   "nbconvert_exporter": "python",
   "pygments_lexer": "ipython3",
   "version": "3.7.6"
  }
 },
 "nbformat": 4,
 "nbformat_minor": 4
}
