{
 "cells": [
  {
   "cell_type": "code",
   "execution_count": 1,
   "metadata": {},
   "outputs": [],
   "source": [
    "import os\n",
    "import numpy as np\n",
    "import cv2\n",
    "from skimage.io import imread\n",
    "os.chdir(\"..\\\\3. Morphological operations\")\n",
    "exec(open(os.path.abspath('image_common_utils.py')).read())\n"
   ]
  },
  {
   "cell_type": "markdown",
   "metadata": {},
   "source": [
    "### Blurring: a low pass filter"
   ]
  },
  {
   "cell_type": "code",
   "execution_count": 2,
   "metadata": {},
   "outputs": [],
   "source": [
    "# Read image\n",
    "my_image_gray = np.array(imread(\"./image_data/wint_sky.gif\", as_gray=True))\n",
    "cv2_show_fullscr('Original', my_image_gray)                                     #predefined function in image_common_utils file"
   ]
  },
  {
   "cell_type": "code",
   "execution_count": 3,
   "metadata": {},
   "outputs": [],
   "source": [
    "# Define kernel\n",
    "kernel_3 = np.ones((3,3), np.float32) / 9.0 # Note: Normalization"
   ]
  },
  {
   "cell_type": "code",
   "execution_count": 4,
   "metadata": {},
   "outputs": [],
   "source": [
    "# Apply convolution\n",
    "image_kernel_3 = cv2.filter2D(my_image_gray, -1, # Output is same size as input\n",
    "                      kernel_3)\n",
    "list_my_image = np.hstack([my_image_gray, image_kernel_3])\n",
    "cv2.imshow(\"All\", list_my_image); cv2.waitKey(0); cv2.destroyAllWindows()"
   ]
  }
 ],
 "metadata": {
  "kernelspec": {
   "display_name": "Python 3",
   "language": "python",
   "name": "python3"
  },
  "language_info": {
   "codemirror_mode": {
    "name": "ipython",
    "version": 3
   },
   "file_extension": ".py",
   "mimetype": "text/x-python",
   "name": "python",
   "nbconvert_exporter": "python",
   "pygments_lexer": "ipython3",
   "version": "3.7.6"
  }
 },
 "nbformat": 4,
 "nbformat_minor": 4
}
