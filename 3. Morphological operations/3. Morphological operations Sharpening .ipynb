{
 "cells": [
  {
   "cell_type": "code",
   "execution_count": 1,
   "metadata": {},
   "outputs": [],
   "source": [
    "import os\n",
    "os.chdir(\"..\\\\3. Morphological operations\")\n",
    "from skimage.io import imread\n",
    "import numpy as np\n",
    "import cv2\n",
    "exec(open(os.path.abspath('image_common_utils.py')).read())"
   ]
  },
  {
   "cell_type": "markdown",
   "metadata": {},
   "source": [
    "#### Defining Kernels"
   ]
  },
  {
   "cell_type": "code",
   "execution_count": 2,
   "metadata": {},
   "outputs": [],
   "source": [
    "#Obtained form research\n",
    "kernel_sharp_1 = np.array([[-1,-1,-1], [-1,9,-1],[-1,-1,-1]], np.float32)\n",
    "kernel_sharp_2 = np.array([[1,1,1], [1,-7,1],[1,1,1]], np.float32)"
   ]
  },
  {
   "cell_type": "markdown",
   "metadata": {},
   "source": [
    "#### Reading Image"
   ]
  },
  {
   "cell_type": "code",
   "execution_count": 6,
   "metadata": {},
   "outputs": [],
   "source": [
    "my_image_color = cv2.imread('./image_data/elephant.png')\n",
    "my_image_gray = cv2.cvtColor(my_image_color,cv2.COLOR_BGR2GRAY)"
   ]
  },
  {
   "cell_type": "markdown",
   "metadata": {},
   "source": [
    "#### Apply convolution"
   ]
  },
  {
   "cell_type": "code",
   "execution_count": 15,
   "metadata": {},
   "outputs": [],
   "source": [
    "#artifically inhanced\n",
    "image_kernel_sharp_1 = cv2.filter2D(my_image_color, -1, kernel_sharp_1)\n",
    "image_kernel_sharp_2 = cv2.filter2D(my_image_color, -1, kernel_sharp_2)\n",
    "list_my_image = np.hstack([my_image_color, image_kernel_sharp_1, image_kernel_sharp_2])\n",
    "cv2.imshow(\"All\", list_my_image); \n",
    "cv2.waitKey(0); \n",
    "cv2.destroyAllWindows()"
   ]
  }
 ],
 "metadata": {
  "kernelspec": {
   "display_name": "Python 3",
   "language": "python",
   "name": "python3"
  },
  "language_info": {
   "codemirror_mode": {
    "name": "ipython",
    "version": 3
   },
   "file_extension": ".py",
   "mimetype": "text/x-python",
   "name": "python",
   "nbconvert_exporter": "python",
   "pygments_lexer": "ipython3",
   "version": "3.7.6"
  }
 },
 "nbformat": 4,
 "nbformat_minor": 4
}
